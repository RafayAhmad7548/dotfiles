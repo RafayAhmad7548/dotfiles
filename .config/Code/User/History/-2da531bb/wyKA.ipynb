{
 "cells": [
  {
   "cell_type": "markdown",
   "metadata": {},
   "source": [
    "### Q2"
   ]
  },
  {
   "cell_type": "code",
   "execution_count": null,
   "metadata": {},
   "outputs": [],
   "source": [
    "dict = {'Rafay' : 3.3, 'Hassan' : 3.7, 'Isham' : 4.8}\n",
    "print(dict['test'])"
   ]
  },
  {
   "cell_type": "markdown",
   "metadata": {},
   "source": [
    "### Q3"
   ]
  },
  {
   "cell_type": "code",
   "execution_count": null,
   "metadata": {},
   "outputs": [],
   "source": [
    "basicPay = int(input('Enter basic pay'))\n",
    "\n",
    "if basicPay < 30000 :\n",
    "    houseRent = 0.3 * basicPay\n",
    "elif basicPay >= 30000 and basicPay <= 50000 :\n",
    "    houseRent = 0.4 * basicPay\n",
    "else :\n",
    "    houseRent = 0.5 * basicPay\n",
    "\n",
    "netPay = basicPay + houseRent\n",
    "\n",
    "print('Basic Pay', basicPay)\n",
    "print('House Rent', houseRent)\n",
    "print('Net Pay', netPay)"
   ]
  },
  {
   "cell_type": "markdown",
   "metadata": {},
   "source": [
    "### Q4"
   ]
  },
  {
   "cell_type": "code",
   "execution_count": null,
   "metadata": {},
   "outputs": [],
   "source": [
    "num1 = input('Enter first number: ')\n",
    "num2 = input('Enter second number: ')\n",
    "num3 = input('Enter third number: ')\n",
    "\n"
   ]
  },
  {
   "cell_type": "markdown",
   "metadata": {},
   "source": [
    "### Q5"
   ]
  },
  {
   "cell_type": "code",
   "execution_count": null,
   "metadata": {},
   "outputs": [],
   "source": []
  }
 ],
 "metadata": {
  "language_info": {
   "name": "python"
  }
 },
 "nbformat": 4,
 "nbformat_minor": 2
}
