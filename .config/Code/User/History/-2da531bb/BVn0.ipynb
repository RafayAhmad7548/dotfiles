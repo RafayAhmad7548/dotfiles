{
 "cells": [
  {
   "cell_type": "markdown",
   "metadata": {},
   "source": [
    "### Q2"
   ]
  },
  {
   "cell_type": "code",
   "execution_count": 1,
   "metadata": {},
   "outputs": [
    {
     "name": "stdout",
     "output_type": "stream",
     "text": [
      "key does not exist\n"
     ]
    }
   ],
   "source": [
    "dict = {'Rafay' : 3.3, 'Hassan' : 3.7, 'Isham' : 4.8}\n",
    "\n",
    "key = input('Enter key')\n",
    "\n",
    "if dict.get(key) is None :\n",
    "    print('key does not exist')\n",
    "else:\n",
    "    print('key exists')"
   ]
  },
  {
   "cell_type": "markdown",
   "metadata": {},
   "source": [
    "### Q3"
   ]
  },
  {
   "cell_type": "code",
   "execution_count": null,
   "metadata": {},
   "outputs": [],
   "source": [
    "basicPay = int(input('Enter basic pay'))\n",
    "\n",
    "if basicPay < 30000 :\n",
    "    houseRent = 0.3 * basicPay\n",
    "elif basicPay >= 30000 and basicPay <= 50000 :\n",
    "    houseRent = 0.4 * basicPay\n",
    "else:\n",
    "    houseRent = 0.5 * basicPay\n",
    "\n",
    "netPay = basicPay + houseRent\n",
    "\n",
    "print('Basic Pay', basicPay)\n",
    "print('House Rent', houseRent)\n",
    "print('Net Pay', netPay)"
   ]
  },
  {
   "cell_type": "markdown",
   "metadata": {},
   "source": [
    "### Q4"
   ]
  },
  {
   "cell_type": "code",
   "execution_count": 14,
   "metadata": {},
   "outputs": [
    {
     "name": "stdout",
     "output_type": "stream",
     "text": [
      "9\n",
      "1\n",
      "0\n",
      "minimum is 0\n"
     ]
    }
   ],
   "source": [
    "minNum = None\n",
    "for i in range(3):\n",
    "    num = input('Enter a number')\n",
    "    if minNum is None or num < minNum :\n",
    "        minNum = num\n",
    "\n",
    "print('minimum is', minNum)"
   ]
  },
  {
   "cell_type": "markdown",
   "metadata": {},
   "source": [
    "### Q5"
   ]
  },
  {
   "cell_type": "code",
   "execution_count": 17,
   "metadata": {},
   "outputs": [
    {
     "name": "stdout",
     "output_type": "stream",
     "text": [
      "[3, 6, 7]\n"
     ]
    }
   ],
   "source": [
    "listlen = int(input('enter length of list'))\n",
    "list = []\n",
    "for i in range(listlen):\n",
    "    list.append(int(input('Enter a number')))\n",
    "list.sort()\n",
    "print(list)"
   ]
  }
 ],
 "metadata": {
  "kernelspec": {
   "display_name": "Python 3",
   "language": "python",
   "name": "python3"
  },
  "language_info": {
   "codemirror_mode": {
    "name": "ipython",
    "version": 3
   },
   "file_extension": ".py",
   "mimetype": "text/x-python",
   "name": "python",
   "nbconvert_exporter": "python",
   "pygments_lexer": "ipython3",
   "version": "3.12.4"
  }
 },
 "nbformat": 4,
 "nbformat_minor": 2
}
